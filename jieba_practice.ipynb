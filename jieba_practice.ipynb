{
 "cells": [
  {
   "cell_type": "code",
   "execution_count": 1,
   "metadata": {},
   "outputs": [
    {
     "name": "stdout",
     "output_type": "stream",
     "text": [
      "Requirement already satisfied: jieba in /Users/uuboy.scy/PycharmProjects/pyetl-course/venv/lib/python3.7/site-packages (0.39)\r\n"
     ]
    }
   ],
   "source": [
    "!pip install jieba"
   ]
  },
  {
   "cell_type": "code",
   "execution_count": 3,
   "metadata": {},
   "outputs": [
    {
     "name": "stdout",
     "output_type": "stream",
     "text": [
      "大家|好|||我|叫|小|賀|||今天|來|國|立|中央|大|學|大|數|據|班上|課|||非常|開|心||\n",
      "大家|好|，|我|叫|小賀|，|今天|來國立|中央|大學大數|據|班上|課|，|非常|開心|。\n",
      "大家|好|，|我|叫|小賀|，|今天|來國立|中央|大學大數|據|班上|課|，|非常|開心|。\n",
      "大家|好|，|我|叫|小賀|，|今天|來國立|中央|大學大數|據|班上|課|，|非常|開心|。\n"
     ]
    }
   ],
   "source": [
    "import jieba\n",
    "\n",
    "s = '大家好，我叫小賀，今天來國立中央大學大數據班上課，非常開心。'\n",
    "\n",
    "s1_list = jieba.cut(s, cut_all=True)\n",
    "s2_list = jieba.cut(s, cut_all=False)\n",
    "s3_list = jieba.cut(s)\n",
    "s4_list = jieba.cut_for_search(s)\n",
    "\n",
    "print('|'.join(s1_list))\n",
    "print('|'.join(s2_list))\n",
    "print('|'.join(s3_list))\n",
    "print('|'.join(s4_list))"
   ]
  },
  {
   "cell_type": "code",
   "execution_count": 5,
   "metadata": {},
   "outputs": [
    {
     "name": "stdout",
     "output_type": "stream",
     "text": [
      "大家|好|||我|叫|小|賀|||今天|來|國立|中央|中央大學|大數據班|班上|課|||非常|開|心||\n",
      "大家|好|，|我|叫|小賀|，|今天|來|國立|中央大學|大數據班|上課|，|非常|開心|。\n",
      "大家|好|，|我|叫|小賀|，|今天|來|國立|中央大學|大數據班|上課|，|非常|開心|。\n",
      "大家|好|，|我|叫|小賀|，|今天|來|國立|中央|中央大學|大數據班|上課|，|非常|開心|。\n"
     ]
    }
   ],
   "source": [
    "jieba.load_userdict('./mydict.txt')\n",
    "\n",
    "s = '大家好，我叫小賀，今天來國立中央大學大數據班上課，非常開心。'\n",
    "\n",
    "s1_list = jieba.cut(s, cut_all=True)\n",
    "s2_list = jieba.cut(s, cut_all=False)\n",
    "s3_list = jieba.cut(s)\n",
    "s4_list = jieba.cut_for_search(s)\n",
    "\n",
    "print('|'.join(s1_list))\n",
    "print('|'.join(s2_list))\n",
    "print('|'.join(s3_list))\n",
    "print('|'.join(s4_list))"
   ]
  },
  {
   "cell_type": "code",
   "execution_count": null,
   "metadata": {},
   "outputs": [],
   "source": []
  }
 ],
 "metadata": {
  "kernelspec": {
   "display_name": "Python 3",
   "language": "python",
   "name": "python3"
  },
  "language_info": {
   "codemirror_mode": {
    "name": "ipython",
    "version": 3
   },
   "file_extension": ".py",
   "mimetype": "text/x-python",
   "name": "python",
   "nbconvert_exporter": "python",
   "pygments_lexer": "ipython3",
   "version": "3.7.0"
  }
 },
 "nbformat": 4,
 "nbformat_minor": 2
}
